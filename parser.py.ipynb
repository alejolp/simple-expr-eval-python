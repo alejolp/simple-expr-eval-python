{
 "cells": [
  {
   "cell_type": "code",
   "execution_count": 27,
   "id": "e93ddaf2",
   "metadata": {},
   "outputs": [],
   "source": [
    "T = '( - ( 2 + 3 ) ) * 4'.split()"
   ]
  },
  {
   "cell_type": "code",
   "execution_count": 28,
   "id": "1f7442aa",
   "metadata": {},
   "outputs": [
    {
     "data": {
      "text/plain": [
       "['(', '-', '(', '2', '+', '3', ')', ')', '*', '4']"
      ]
     },
     "execution_count": 28,
     "metadata": {},
     "output_type": "execute_result"
    }
   ],
   "source": [
    "T"
   ]
  },
  {
   "cell_type": "code",
   "execution_count": 5,
   "id": "313be128",
   "metadata": {},
   "outputs": [],
   "source": [
    "def PE(input, pos):\n",
    "    # 2 + 3 - 4 + 5 (~EBNF) {} +0 repetition\n",
    "    # expr = term {('+' | '-') term}\n",
    "    childs = []\n",
    "    c1, nextpos = PT(input, pos)\n",
    "    childs.append(c1)\n",
    "    while nextpos  < len(input):\n",
    "        t = input[nextpos]\n",
    "        if t in ['+', '-']:\n",
    "            childs.append(t)\n",
    "            c2, nextpos2 = PT(input, nextpos + 1)\n",
    "            childs.append(c2)\n",
    "            nextpos = nextpos2\n",
    "        else:\n",
    "            break\n",
    "\n",
    "    return ('E', childs), nextpos"
   ]
  },
  {
   "cell_type": "code",
   "execution_count": 6,
   "id": "5c115c40",
   "metadata": {},
   "outputs": [],
   "source": [
    "def PT(input, pos):\n",
    "    # term: factor {('*'|'/') factor}\n",
    "    childs = []\n",
    "    c1, nextpos = PF(input, pos)\n",
    "    childs.append(c1)\n",
    "    while nextpos  < len(input):\n",
    "        t = input[nextpos]\n",
    "        if t in ['*', '/']:\n",
    "            childs.append(t)\n",
    "            c2, nextpos2 = PF(input, nextpos + 1)\n",
    "            childs.append(c2)\n",
    "            nextpos = nextpos2\n",
    "        else:\n",
    "            break\n",
    "\n",
    "    return ('T', childs), nextpos"
   ]
  },
  {
   "cell_type": "code",
   "execution_count": 7,
   "id": "fc8cd7b7",
   "metadata": {},
   "outputs": [],
   "source": [
    "def PF(input, pos):\n",
    "    # factor: '(' expr ')' | '-' factor | value \n",
    "    childs = []\n",
    "    if input[pos] == '(':\n",
    "        c1, nextpos = PE(input, pos + 1)\n",
    "        childs.append(c1)\n",
    "        nextpos += 1\n",
    "    elif input[pos] == '-':\n",
    "        childs.append('-')\n",
    "        c1, nextpos = PE(input, pos + 1)\n",
    "        childs.append(c1)\n",
    "    elif input[pos].isdigit():\n",
    "        c1, nextpos = PV(input, pos)\n",
    "        childs.append(c1)\n",
    "    else:\n",
    "        assert False\n",
    "    return ('F', childs), nextpos"
   ]
  },
  {
   "cell_type": "code",
   "execution_count": 8,
   "id": "97fb355f",
   "metadata": {},
   "outputs": [],
   "source": [
    "def PV(input, pos):\n",
    "    return ('V', (input[pos])), (pos + 1)"
   ]
  },
  {
   "cell_type": "code",
   "execution_count": 29,
   "id": "aedd0494",
   "metadata": {},
   "outputs": [],
   "source": [
    "W, pos = PE(T, 0)"
   ]
  },
  {
   "cell_type": "code",
   "execution_count": 30,
   "id": "14883360",
   "metadata": {},
   "outputs": [
    {
     "data": {
      "text/plain": [
       "(('E',\n",
       "  [('T',\n",
       "    [('F',\n",
       "      [('E',\n",
       "        [('T',\n",
       "          [('F',\n",
       "            ['-',\n",
       "             ('E',\n",
       "              [('T',\n",
       "                [('F',\n",
       "                  [('E',\n",
       "                    [('T', [('F', [('V', '2')])]),\n",
       "                     '+',\n",
       "                     ('T', [('F', [('V', '3')])])])])])])])])])]),\n",
       "     '*',\n",
       "     ('F', [('V', '4')])])]),\n",
       " 10)"
      ]
     },
     "execution_count": 30,
     "metadata": {},
     "output_type": "execute_result"
    }
   ],
   "source": [
    "W, pos"
   ]
  },
  {
   "cell_type": "code",
   "execution_count": 34,
   "id": "29888376",
   "metadata": {},
   "outputs": [],
   "source": [
    "def myEval(node):\n",
    "    print(node)\n",
    "    if node[0] == 'V':\n",
    "        return int(node[1])\n",
    "    if node[0] == 'E':\n",
    "        k = 1\n",
    "        parts = node[1]\n",
    "        val = myEval(parts[0])\n",
    "        while k < len(parts):\n",
    "            if parts[k] == '+':\n",
    "                val += myEval(parts[k + 1])\n",
    "            elif parts[k] == '-':\n",
    "                val -= myEval(parts[k + 1])\n",
    "            else:\n",
    "                assert False\n",
    "            k += 2\n",
    "        return val\n",
    "    if node[0] == 'T':\n",
    "        k = 1\n",
    "        parts = node[1]\n",
    "        val = myEval(parts[0])\n",
    "        while k < len(parts):\n",
    "            if parts[k] == '*':\n",
    "                val *= myEval(parts[k + 1])\n",
    "            elif parts[k] == '/':\n",
    "                val /= myEval(parts[k + 1])\n",
    "            else:\n",
    "                assert False\n",
    "            k += 2\n",
    "        return val\n",
    "    if node[0] == 'F':\n",
    "        if node[1][0] == '-':\n",
    "            return -1 * myEval(node[1][1])\n",
    "        return myEval(node[1][0])\n",
    "    assert False, node\n",
    "    "
   ]
  },
  {
   "cell_type": "code",
   "execution_count": 35,
   "id": "0ab9f087",
   "metadata": {},
   "outputs": [
    {
     "name": "stdout",
     "output_type": "stream",
     "text": [
      "('E', [('T', [('F', [('E', [('T', [('F', ['-', ('E', [('T', [('F', [('E', [('T', [('F', [('V', '2')])]), '+', ('T', [('F', [('V', '3')])])])])])])])])])]), '*', ('F', [('V', '4')])])])\n",
      "('T', [('F', [('E', [('T', [('F', ['-', ('E', [('T', [('F', [('E', [('T', [('F', [('V', '2')])]), '+', ('T', [('F', [('V', '3')])])])])])])])])])]), '*', ('F', [('V', '4')])])\n",
      "('F', [('E', [('T', [('F', ['-', ('E', [('T', [('F', [('E', [('T', [('F', [('V', '2')])]), '+', ('T', [('F', [('V', '3')])])])])])])])])])])\n",
      "('E', [('T', [('F', ['-', ('E', [('T', [('F', [('E', [('T', [('F', [('V', '2')])]), '+', ('T', [('F', [('V', '3')])])])])])])])])])\n",
      "('T', [('F', ['-', ('E', [('T', [('F', [('E', [('T', [('F', [('V', '2')])]), '+', ('T', [('F', [('V', '3')])])])])])])])])\n",
      "('F', ['-', ('E', [('T', [('F', [('E', [('T', [('F', [('V', '2')])]), '+', ('T', [('F', [('V', '3')])])])])])])])\n",
      "('E', [('T', [('F', [('E', [('T', [('F', [('V', '2')])]), '+', ('T', [('F', [('V', '3')])])])])])])\n",
      "('T', [('F', [('E', [('T', [('F', [('V', '2')])]), '+', ('T', [('F', [('V', '3')])])])])])\n",
      "('F', [('E', [('T', [('F', [('V', '2')])]), '+', ('T', [('F', [('V', '3')])])])])\n",
      "('E', [('T', [('F', [('V', '2')])]), '+', ('T', [('F', [('V', '3')])])])\n",
      "('T', [('F', [('V', '2')])])\n",
      "('F', [('V', '2')])\n",
      "('V', '2')\n",
      "('T', [('F', [('V', '3')])])\n",
      "('F', [('V', '3')])\n",
      "('V', '3')\n",
      "('F', [('V', '4')])\n",
      "('V', '4')\n"
     ]
    },
    {
     "data": {
      "text/plain": [
       "-20"
      ]
     },
     "execution_count": 35,
     "metadata": {},
     "output_type": "execute_result"
    }
   ],
   "source": [
    "myEval(W)"
   ]
  },
  {
   "cell_type": "code",
   "execution_count": null,
   "id": "37e5c43c",
   "metadata": {},
   "outputs": [],
   "source": []
  }
 ],
 "metadata": {
  "kernelspec": {
   "display_name": "Python 3 (ipykernel)",
   "language": "python",
   "name": "python3"
  },
  "language_info": {
   "codemirror_mode": {
    "name": "ipython",
    "version": 3
   },
   "file_extension": ".py",
   "mimetype": "text/x-python",
   "name": "python",
   "nbconvert_exporter": "python",
   "pygments_lexer": "ipython3",
   "version": "3.8.10"
  }
 },
 "nbformat": 4,
 "nbformat_minor": 5
}
